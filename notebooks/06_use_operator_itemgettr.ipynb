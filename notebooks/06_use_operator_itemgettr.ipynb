{
 "cells": [
  {
   "cell_type": "markdown",
   "id": "e1cce792c143807d",
   "metadata": {
    "collapsed": true,
    "jupyter": {
     "outputs_hidden": true
    }
   },
   "source": [
    "**Programmer:** python_scripts (Abhijith Warrier)\n",
    "\n",
    "**PYTHON SCRIPT TO **_USE `operator.itemgetter` AS A CLEANER, FASTER ALTERNATIVE TO LAMBDAS_**. 🐍🧮**\n",
    "\n",
    "When sorting collections like lists of dicts, many developers use `lambda`. It works, but `operator.itemgetter` from the standard library is often **shorter, safer, and faster**."
   ]
  },
  {
   "cell_type": "markdown",
   "id": "f7dd17b13501e46c",
   "metadata": {},
   "source": [
    "## 📦 Import Standard Library"
   ]
  },
  {
   "cell_type": "code",
   "execution_count": 1,
   "id": "6ed2e91ab4f709f9",
   "metadata": {},
   "outputs": [],
   "source": [
    "from operator import itemgetter   # provides a callable to fetch item(s) by key/index"
   ]
  },
  {
   "cell_type": "markdown",
   "id": "747d9d7a28369500",
   "metadata": {},
   "source": [
    "## 📝 Snippet 1 — Sorting by One Key (Lambda vs itemgetter)\n",
    "\n",
    "*You can sort with a `lambda`, but `itemgetter(\"key\")` is cleaner and avoids repeated code.*"
   ]
  },
  {
   "cell_type": "code",
   "execution_count": 2,
   "id": "c480f5f4318c0753",
   "metadata": {},
   "outputs": [
    {
     "name": "stdout",
     "output_type": "stream",
     "text": [
      "By score (lambda): [{'name': 'Ava', 'score': 92}, {'name': 'Mila', 'score': 92}, {'name': 'Noah', 'score': 85}, {'name': 'Liam', 'score': 77}]\n",
      "By score (itemgetter): [{'name': 'Ava', 'score': 92}, {'name': 'Mila', 'score': 92}, {'name': 'Noah', 'score': 85}, {'name': 'Liam', 'score': 77}]\n"
     ]
    }
   ],
   "source": [
    "players = [\n",
    "    {\"name\": \"Ava\",   \"score\": 92},\n",
    "    {\"name\": \"Liam\",  \"score\": 77},\n",
    "    {\"name\": \"Mila\",  \"score\": 92},\n",
    "    {\"name\": \"Noah\",  \"score\": 85},\n",
    "]\n",
    "\n",
    "# Using lambda to sort by score (descending)\n",
    "by_score_lambda = sorted(players, key=lambda d: d[\"score\"], reverse=True)\n",
    "\n",
    "# Using itemgetter to sort by score (descending) — shorter, cleaner\n",
    "by_score_getter = sorted(players, key=itemgetter(\"score\"), reverse=True)\n",
    "\n",
    "print(\"By score (lambda):\", by_score_lambda)\n",
    "print(\"By score (itemgetter):\", by_score_getter)"
   ]
  },
  {
   "cell_type": "markdown",
   "id": "123721a2b4b26529",
   "metadata": {},
   "source": [
    "## 🧩 Snippet 2 — Sorting by Multiple Keys\n",
    "\n",
    "*With `itemgetter`, you can sort by multiple fields without writing nested lambdas.*"
   ]
  },
  {
   "cell_type": "code",
   "execution_count": 6,
   "id": "d7178e8e6c95180d",
   "metadata": {},
   "outputs": [
    {
     "name": "stdout",
     "output_type": "stream",
     "text": [
      "By score desc, then name asc: [{'name': 'Mila', 'score': 92}, {'name': 'Ava', 'score': 92}, {'name': 'Noah', 'score': 85}, {'name': 'Liam', 'score': 77}]\n"
     ]
    }
   ],
   "source": [
    "# Sort by score (desc), then name (asc)\n",
    "by_score_name = sorted(players, key=itemgetter(\"score\", \"name\"), reverse=True)\n",
    "\n",
    "print(\"By score desc, then name asc:\", by_score_name)"
   ]
  },
  {
   "cell_type": "markdown",
   "id": "711610140c6169fc",
   "metadata": {},
   "source": [
    "## ⚡ Snippet 3 — Top-N with itemgetter\n",
    "\n",
    "*`itemgetter` pairs well with slicing to extract top-N items.*"
   ]
  },
  {
   "cell_type": "code",
   "execution_count": 4,
   "id": "c759dcaf14ecf5a6",
   "metadata": {},
   "outputs": [
    {
     "name": "stdout",
     "output_type": "stream",
     "text": [
      "Top 2 by score: [{'name': 'Ava', 'score': 92}, {'name': 'Mila', 'score': 92}]\n"
     ]
    }
   ],
   "source": [
    "# Get the top 2 players by score\n",
    "top2 = sorted(players, key=itemgetter(\"score\"), reverse=True)[:2]\n",
    "\n",
    "print(\"Top 2 by score:\", top2)"
   ]
  },
  {
   "cell_type": "markdown",
   "id": "5312f35889384b1",
   "metadata": {},
   "source": [
    "## ✅ One-liner Takeaway\n",
    "\n",
    "**Use `operator.itemgetter` for sorting dicts by one or more keys — it’s cleaner and slightly faster than lambdas.**"
   ]
  },
  {
   "cell_type": "markdown",
   "id": "c60a2c27b90a9e53",
   "metadata": {},
   "source": []
  }
 ],
 "metadata": {
  "kernelspec": {
   "display_name": "Python 3 (ipykernel)",
   "language": "python",
   "name": "python3"
  },
  "language_info": {
   "codemirror_mode": {
    "name": "ipython",
    "version": 3
   },
   "file_extension": ".py",
   "mimetype": "text/x-python",
   "name": "python",
   "nbconvert_exporter": "python",
   "pygments_lexer": "ipython3",
   "version": "3.13.5"
  }
 },
 "nbformat": 4,
 "nbformat_minor": 5
}
