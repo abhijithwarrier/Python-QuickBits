{
 "cells": [
  {
   "metadata": {
    "collapsed": true
   },
   "cell_type": "markdown",
   "source": [
    "**Programmer:** python_scripts (Abhijith Warrier)\n",
    "\n",
    "**PYTHON SCRIPT TO **_PREVENT MUTABLE DEFAULT BUGS USING dataclasses.field(default_factory=...)._** 🐍🛡️**\n",
    "\n",
    "This script shows why using mutable objects (like list/dict) as defaults in dataclasses is dangerous and how to fix it using\n",
    "default_factory. We’ll see the bug, the fix, and practical variations."
   ],
   "id": "4e586625ba4a6dd2"
  },
  {
   "metadata": {},
   "cell_type": "markdown",
   "source": "### 📦 Import Standard Library",
   "id": "587ae59624fd31dc"
  },
  {
   "metadata": {
    "ExecuteTime": {
     "end_time": "2025-08-22T17:59:59.796621Z",
     "start_time": "2025-08-22T17:59:59.790801Z"
    }
   },
   "cell_type": "code",
   "source": [
    "from dataclasses import dataclass, field   # dataclass utilities and safe default factory\n",
    "from typing import List, Dict              # type hints for clarity"
   ],
   "id": "f79e798cc4162db3",
   "outputs": [],
   "execution_count": 2
  },
  {
   "metadata": {},
   "cell_type": "markdown",
   "source": [
    "### 📝 Snippet 1 — The Bug: Mutable Defaults Are Shared\n",
    "\n",
    "Using a mutable object like [] as a default in a dataclass field causes all instances to share the same list."
   ],
   "id": "d6ec9a38296dfae2"
  },
  {
   "metadata": {
    "ExecuteTime": {
     "end_time": "2025-08-22T18:06:01.300187Z",
     "start_time": "2025-08-22T18:06:01.295667Z"
    }
   },
   "cell_type": "code",
   "source": [
    "from dataclasses import dataclass\n",
    "from typing import List\n",
    "\n",
    "try:\n",
    "    @dataclass\n",
    "    class BadTagStore:\n",
    "        tags: List[str] = []   # ❌ BAD: raises ValueError in Python 3.11+\n",
    "\n",
    "except ValueError as ve:\n",
    "    print(f\"ValueError - {str(ve)}\")\n",
    "# Running this in Python 3.11+ will throw:\n",
    "# ValueError: mutable default <class 'list'> for field tags is not allowed: use default_factory"
   ],
   "id": "74a285d6000554ad",
   "outputs": [
    {
     "name": "stdout",
     "output_type": "stream",
     "text": [
      "ValueError - mutable default <class 'list'> for field tags is not allowed: use default_factory\n"
     ]
    }
   ],
   "execution_count": 10
  },
  {
   "metadata": {},
   "cell_type": "markdown",
   "source": [
    "### 🛡️ Snippet 2 — The Fix: default_factory=list\n",
    "\n",
    "field(default_factory=list) creates a fresh list per instance, preventing accidental sharing."
   ],
   "id": "5e11fa0a6a5d4a4f"
  },
  {
   "metadata": {
    "ExecuteTime": {
     "end_time": "2025-08-22T18:00:05.952267Z",
     "start_time": "2025-08-22T18:00:05.946968Z"
    }
   },
   "cell_type": "code",
   "source": [
    "@dataclass                                       # safer dataclass\n",
    "class GoodTagStore:                              # corrected class\n",
    "    tags: List[str] = field(default_factory=list)  # ✅ GOOD: a new list each time\n",
    "\n",
    "good1 = GoodTagStore()                           # first safe instance\n",
    "good2 = GoodTagStore()                           # second safe instance\n",
    "good1.tags.append(\"python\")                      # mutate tags on first instance\n",
    "\n",
    "print(\"Good store1:\", good1.tags)                # ['python']\n",
    "print(\"Good store2:\", good2.tags)                # [] (independent)\n",
    "print(\"Same object?\", good1.tags is good2.tags)  # False"
   ],
   "id": "904d066adffe54e9",
   "outputs": [
    {
     "name": "stdout",
     "output_type": "stream",
     "text": [
      "Good store1: ['python']\n",
      "Good store2: []\n",
      "Same object? False\n"
     ]
    }
   ],
   "execution_count": 4
  },
  {
   "metadata": {},
   "cell_type": "markdown",
   "source": [
    "### 🧰 Snippet 3 — Practical Variations\n",
    "\n",
    "default_factory works not just for lists, but for dicts, sets, and even custom callables."
   ],
   "id": "4a551a2ea8318742"
  },
  {
   "metadata": {
    "ExecuteTime": {
     "end_time": "2025-08-22T18:00:08.926849Z",
     "start_time": "2025-08-22T18:00:08.917362Z"
    }
   },
   "cell_type": "code",
   "source": [
    "@dataclass\n",
    "class ConfigStore:\n",
    "    # dict gets a fresh copy per instance\n",
    "    config: Dict[str, str] = field(default_factory=dict)\n",
    "\n",
    "    # set gets a fresh copy per instance\n",
    "    features: set = field(default_factory=set)\n",
    "\n",
    "    # even a custom factory function\n",
    "    def_list: List[str] = field(default_factory=lambda: [\"default\"])\n",
    "\n",
    "c1 = ConfigStore()\n",
    "c2 = ConfigStore()\n",
    "c1.config[\"mode\"] = \"dark\"\n",
    "\n",
    "print(\"Config1:\", c1.config)        # {'mode': 'dark'}\n",
    "print(\"Config2:\", c2.config)        # {} — independent\n",
    "\n",
    "print(\"Features1:\", c1.features)    # set()\n",
    "print(\"Default list2:\", c2.def_list) # ['default']"
   ],
   "id": "25439f571d3e35ae",
   "outputs": [
    {
     "name": "stdout",
     "output_type": "stream",
     "text": [
      "Config1: {'mode': 'dark'}\n",
      "Config2: {}\n",
      "Features1: set()\n",
      "Default list2: ['default']\n"
     ]
    }
   ],
   "execution_count": 5
  },
  {
   "metadata": {},
   "cell_type": "markdown",
   "source": [
    "### ✅ One-liner Takeaway\n",
    "\n",
    "Always use default_factory for mutable defaults in dataclasses — it prevents shared state bugs."
   ],
   "id": "4cbeeb9bc1370fb8"
  },
  {
   "metadata": {},
   "cell_type": "code",
   "outputs": [],
   "execution_count": null,
   "source": "",
   "id": "30f08be66da0cb68"
  }
 ],
 "metadata": {
  "kernelspec": {
   "display_name": "Python 3",
   "language": "python",
   "name": "python3"
  },
  "language_info": {
   "codemirror_mode": {
    "name": "ipython",
    "version": 2
   },
   "file_extension": ".py",
   "mimetype": "text/x-python",
   "name": "python",
   "nbconvert_exporter": "python",
   "pygments_lexer": "ipython2",
   "version": "2.7.6"
  }
 },
 "nbformat": 4,
 "nbformat_minor": 5
}
