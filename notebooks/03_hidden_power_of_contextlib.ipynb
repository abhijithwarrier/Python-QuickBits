{
 "cells": [
  {
   "cell_type": "markdown",
   "id": "7b04c0c127810a38",
   "metadata": {
    "collapsed": true,
    "jupyter": {
     "outputs_hidden": true
    }
   },
   "source": [
    "**Programmer:** python_scripts (Abhijith Warrier)\n",
    "\n",
    "**PYTHON SCRIPT **_TO MASTER PYTHON’S HIDDEN CONTEXT MANAGER TRICKS WITH contextlib_**. 🐍🎭**\n",
    "\n",
    "The contextlib module provides utilities to simplify resource management and error handling. Beyond the classic with open(...), you can:\n",
    "- Suppress exceptions\n",
    "- Redirect output\n",
    "- Build custom context managers with ease"
   ]
  },
  {
   "cell_type": "markdown",
   "id": "f45bedbd6e21c9b1",
   "metadata": {},
   "source": [
    "### 📦 Import Standard Library"
   ]
  },
  {
   "cell_type": "code",
   "execution_count": 1,
   "id": "e78adaed7249b636",
   "metadata": {
    "ExecuteTime": {
     "end_time": "2025-08-27T17:48:05.364241Z",
     "start_time": "2025-08-27T17:48:05.359970Z"
    }
   },
   "outputs": [],
   "source": [
    "import contextlib    # tools for advanced context manager patterns\n",
    "import sys           # used to demonstrate stdout redirection"
   ]
  },
  {
   "cell_type": "markdown",
   "id": "d60a7207050089e4",
   "metadata": {},
   "source": [
    "### 📝 Snippet 1 — Suppress Exceptions Gracefully\n",
    "\n",
    "contextlib.suppress() lets you ignore specific exceptions without extra try/except blocks."
   ]
  },
  {
   "cell_type": "code",
   "execution_count": 2,
   "id": "1cd04aaae6eb51bf",
   "metadata": {
    "ExecuteTime": {
     "end_time": "2025-08-27T17:48:12.311906Z",
     "start_time": "2025-08-27T17:48:12.308585Z"
    }
   },
   "outputs": [
    {
     "name": "stdout",
     "output_type": "stream",
     "text": [
      "Continuing execution after suppressing error...\n"
     ]
    }
   ],
   "source": [
    "with contextlib.suppress(FileNotFoundError):   # ignore FileNotFoundError\n",
    "    with open(\"../sample_outputs/missing.txt\") as f:             # attempt to open a non-existing file\n",
    "        data = f.read()                        # no traceback raised!\n",
    "print(\"Continuing execution after suppressing error...\")"
   ]
  },
  {
   "cell_type": "markdown",
   "id": "3eac0d0129d3f335",
   "metadata": {},
   "source": [
    "### 🎭 Snippet 2 — Redirect Output\n",
    "\n",
    "Redirect stdout or stderr to a file or buffer temporarily."
   ]
  },
  {
   "cell_type": "code",
   "execution_count": 3,
   "id": "9d957d26a882d36d",
   "metadata": {
    "ExecuteTime": {
     "end_time": "2025-08-27T17:48:17.781051Z",
     "start_time": "2025-08-27T17:48:17.777403Z"
    }
   },
   "outputs": [
    {
     "name": "stdout",
     "output_type": "stream",
     "text": [
      "Back to normal stdout\n"
     ]
    }
   ],
   "source": [
    "with open(\"../sample_outputs/log.txt\", \"w\") as f:                       # open file for writing\n",
    "    with contextlib.redirect_stdout(f):               # redirect all prints into file\n",
    "        print(\"This will go inside log.txt\")          # not shown in console\n",
    "print(\"Back to normal stdout\")"
   ]
  },
  {
   "cell_type": "markdown",
   "id": "323edb84aa572775",
   "metadata": {},
   "source": [
    "### 🛠️ Snippet 3 — Build Custom Context Managers\n",
    "\n",
    "Create lightweight context managers with the @contextlib.contextmanager decorator."
   ]
  },
  {
   "cell_type": "code",
   "execution_count": 4,
   "id": "7920678cd5326fd9",
   "metadata": {
    "ExecuteTime": {
     "end_time": "2025-08-27T17:48:20.531933Z",
     "start_time": "2025-08-27T17:48:20.528113Z"
    }
   },
   "outputs": [
    {
     "name": "stdout",
     "output_type": "stream",
     "text": [
      "[SETUP] Opening resource DB Connection\n",
      "...using the resource safely...\n",
      "[CLEANUP] Closing resource DB Connection\n"
     ]
    }
   ],
   "source": [
    "@contextlib.contextmanager\n",
    "def managed_resource(name: str):\n",
    "    print(f\"[SETUP] Opening resource {name}\")   # setup\n",
    "    yield                                      # code inside `with` runs here\n",
    "    print(f\"[CLEANUP] Closing resource {name}\") # cleanup\n",
    "\n",
    "with managed_resource(\"DB Connection\"):\n",
    "    print(\"...using the resource safely...\")"
   ]
  },
  {
   "cell_type": "markdown",
   "id": "3a8517eb52be3ffe",
   "metadata": {},
   "source": [
    "### ✅ One-liner Takeaway\n",
    "\n",
    "contextlib = clean, Pythonic resource management with suppression, redirection & custom contexts."
   ]
  },
  {
   "cell_type": "code",
   "execution_count": null,
   "id": "4a5f00a895b16393",
   "metadata": {},
   "outputs": [],
   "source": []
  }
 ],
 "metadata": {
  "kernelspec": {
   "display_name": "Python 3 (ipykernel)",
   "language": "python",
   "name": "python3"
  },
  "language_info": {
   "codemirror_mode": {
    "name": "ipython",
    "version": 3
   },
   "file_extension": ".py",
   "mimetype": "text/x-python",
   "name": "python",
   "nbconvert_exporter": "python",
   "pygments_lexer": "ipython3",
   "version": "3.13.5"
  }
 },
 "nbformat": 4,
 "nbformat_minor": 5
}
