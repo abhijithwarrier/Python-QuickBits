{
 "cells": [
  {
   "cell_type": "markdown",
   "id": "571d2a3c00a3aa98",
   "metadata": {
    "collapsed": true,
    "jupyter": {
     "outputs_hidden": true
    }
   },
   "source": [
    "**Programmer:** python_scripts (Abhijith Warrier)\n",
    "\n",
    "**PYTHON SCRIPT TO **_DEFINE ENUMS WITHOUT MANUALLY ASSIGNING VALUES_**. 🐍🔢**\n",
    "\n",
    "The `enum` module is great for readable constants. With `auto()`, Python automatically assigns values, so you don’t have to hardcode numbers.\n",
    "This makes code **cleaner, safer, and easier to maintain**."
   ]
  },
  {
   "cell_type": "markdown",
   "id": "259f3c97645789",
   "metadata": {},
   "source": [
    "## 📦 Import Standard Library"
   ]
  },
  {
   "cell_type": "code",
   "execution_count": 1,
   "id": "83713b95013476d5",
   "metadata": {},
   "outputs": [],
   "source": [
    "from enum import Enum, auto   # Enum base class and auto() helper for auto values"
   ]
  },
  {
   "cell_type": "markdown",
   "id": "318896f4bee4f88",
   "metadata": {},
   "source": [
    "## 📝 Snippet 1 — Manual Enum Values\n",
    "\n",
    "*Traditionally, you assign explicit values to each enum member.*\n",
    "This works, but is **verbose and error-prone**."
   ]
  },
  {
   "cell_type": "code",
   "execution_count": 2,
   "id": "c5ecbc2e48b572f1",
   "metadata": {},
   "outputs": [
    {
     "name": "stdout",
     "output_type": "stream",
     "text": [
      "Manual Enums:\n",
      "StatusManual.PENDING 1\n",
      "StatusManual.IN_PROGRESS 2\n",
      "StatusManual.COMPLETED 3\n"
     ]
    }
   ],
   "source": [
    "class StatusManual(Enum):\n",
    "    PENDING = 1        # manually assign each constant\n",
    "    IN_PROGRESS = 2    # tedious if list is long\n",
    "    COMPLETED = 3      # easy to break if you reorder items\n",
    "\n",
    "print(\"Manual Enums:\")\n",
    "for s in StatusManual:\n",
    "    print(s, s.value)   # show both name and value"
   ]
  },
  {
   "cell_type": "markdown",
   "id": "b4ead3f6f357f65b",
   "metadata": {},
   "source": [
    "## 🔢 Snippet 2 — Smarter Enums with auto()\n",
    "\n",
    "*Using `auto()`, Python assigns values automatically in order.*\n",
    "This reduces duplication and avoids mistakes when reordering or inserting members."
   ]
  },
  {
   "cell_type": "code",
   "execution_count": 3,
   "id": "4adbdd5904d716de",
   "metadata": {},
   "outputs": [
    {
     "name": "stdout",
     "output_type": "stream",
     "text": [
      "\n",
      "Auto Enums:\n",
      "StatusAuto.PENDING 1\n",
      "StatusAuto.IN_PROGRESS 2\n",
      "StatusAuto.COMPLETED 3\n"
     ]
    }
   ],
   "source": [
    "class StatusAuto(Enum):\n",
    "    PENDING = auto()       # gets value 1 automatically\n",
    "    IN_PROGRESS = auto()   # becomes 2\n",
    "    COMPLETED = auto()     # becomes 3\n",
    "\n",
    "print(\"\\nAuto Enums:\")\n",
    "for s in StatusAuto:\n",
    "    print(s, s.value)      # each has auto-assigned value"
   ]
  },
  {
   "cell_type": "markdown",
   "id": "4e1ca89eb97b8554",
   "metadata": {},
   "source": [
    "## 🧩 Snippet 3 — Mixing Custom and Auto Values\n",
    "\n",
    "*You can combine explicit values with `auto()`.\n",
    "Auto continues counting from the last explicit value.*"
   ]
  },
  {
   "cell_type": "code",
   "execution_count": 4,
   "id": "241eaac816288e9",
   "metadata": {},
   "outputs": [
    {
     "name": "stdout",
     "output_type": "stream",
     "text": [
      "\n",
      "Priority Enums:\n",
      "Priority.LOW 1\n",
      "Priority.MEDIUM 2\n",
      "Priority.HIGH 3\n"
     ]
    }
   ],
   "source": [
    "class Priority(Enum):\n",
    "    LOW = 1          # explicitly set value\n",
    "    MEDIUM = auto()  # auto() continues → 2\n",
    "    HIGH = auto()    # auto() continues → 3\n",
    "\n",
    "print(\"\\nPriority Enums:\")\n",
    "for p in Priority:\n",
    "    print(p, p.value)"
   ]
  },
  {
   "cell_type": "markdown",
   "id": "a0003aa274d8c96c",
   "metadata": {},
   "source": [
    "## ✅ One-liner Takeaway\n",
    "\n",
    "**Use `auto()` in Enums to avoid hardcoding values — cleaner, safer, and easier to maintain.**"
   ]
  },
  {
   "cell_type": "code",
   "execution_count": null,
   "id": "626f0df19c011f6e",
   "metadata": {},
   "outputs": [],
   "source": []
  },
  {
   "cell_type": "code",
   "execution_count": null,
   "id": "80c2bf6c-5467-4d9f-9597-15fc3cf2891e",
   "metadata": {},
   "outputs": [],
   "source": []
  }
 ],
 "metadata": {
  "kernelspec": {
   "display_name": "Python 3 (ipykernel)",
   "language": "python",
   "name": "python3"
  },
  "language_info": {
   "codemirror_mode": {
    "name": "ipython",
    "version": 3
   },
   "file_extension": ".py",
   "mimetype": "text/x-python",
   "name": "python",
   "nbconvert_exporter": "python",
   "pygments_lexer": "ipython3",
   "version": "3.13.5"
  }
 },
 "nbformat": 4,
 "nbformat_minor": 5
}
