{
 "cells": [
  {
   "cell_type": "markdown",
   "id": "db624d66d122f984",
   "metadata": {
    "collapsed": true,
    "jupyter": {
     "outputs_hidden": true
    }
   },
   "source": [
    "**Programmer:** python_scripts (Abhijith Warrier)\n",
    "\n",
    "**PYTHON SCRIPT TO _CUT PER-OBJECT MEMORY USING `__slots__`_. 🐍📦**\n",
    "\n",
    "`__slots__` removes the per-instance `__dict__`, which can **dramatically reduce memory** and slightly **speed up attribute access** in object-heavy apps.\n",
    "This notebook compares a normal class vs a slots class, shows attribute limitations, and benchmarks access speed."
   ]
  },
  {
   "cell_type": "markdown",
   "id": "3083caf920001b7",
   "metadata": {},
   "source": [
    "## 📦 Import Standard Library"
   ]
  },
  {
   "cell_type": "code",
   "execution_count": 1,
   "id": "a5c360f8d401967b",
   "metadata": {},
   "outputs": [],
   "source": [
    "import tracemalloc          # measure memory usage by taking snapshots\n",
    "import timeit               # quick micro-benchmarks for attribute access"
   ]
  },
  {
   "cell_type": "markdown",
   "id": "f0fb161e631fbfe7",
   "metadata": {},
   "source": [
    "## 📝 Snippet 1 — Normal Class vs `__slots__`: Memory Comparison\n",
    "\n",
    "*We create many instances of a normal class and a slots class, and measure memory using `tracemalloc`.*\n",
    "Note: `sys.getsizeof(obj)` won't include referenced objects; `tracemalloc` is better for this comparison."
   ]
  },
  {
   "cell_type": "code",
   "execution_count": 2,
   "id": "86a3784e1c96ec48",
   "metadata": {},
   "outputs": [
    {
     "name": "stdout",
     "output_type": "stream",
     "text": [
      "Total allocated (normal): 17.73 MiB\n",
      "Total allocated (slots) : 13.91 MiB\n",
      "Memory reduction (~): 21.5%\n"
     ]
    }
   ],
   "source": [
    "# Define two equivalent classes: one normal, one with __slots__\n",
    "class UserNormal:\n",
    "    # regular class has a per-instance __dict__ (flexible but heavier)\n",
    "    def __init__(self, uid, name, active):\n",
    "        self.uid = uid                 # set attribute 'uid'\n",
    "        self.name = name               # set attribute 'name'\n",
    "        self.active = active           # set attribute 'active'\n",
    "\n",
    "class UserSlots:\n",
    "    __slots__ = (\"uid\", \"name\", \"active\")  # declare fixed attributes; no __dict__ by default\n",
    "    def __init__(self, uid, name, active):\n",
    "        self.uid = uid                      # set attribute 'uid'\n",
    "        self.name = name                    # set attribute 'name'\n",
    "        self.active = active                # set attribute 'active'\n",
    "\n",
    "def make_users(cls, n=100_000):\n",
    "    # helper to create n instances with small strings/ints\n",
    "    return [cls(i, f\"user{i}\", (i % 2 == 0)) for i in range(n)]\n",
    "\n",
    "# Measure memory for normal class instances\n",
    "tracemalloc.start()                                     # begin tracking allocations\n",
    "_ = make_users(UserNormal, n=100_000)                   # create many normal instances\n",
    "snap_normal = tracemalloc.take_snapshot()               # snapshot memory after creation\n",
    "tracemalloc.stop()                                      # stop tracking\n",
    "\n",
    "# Measure memory for slots class instances\n",
    "tracemalloc.start()                                     # restart tracking for a clean measurement\n",
    "_ = make_users(UserSlots, n=100_000)                    # create many slots instances\n",
    "snap_slots = tracemalloc.take_snapshot()                # snapshot memory after creation\n",
    "tracemalloc.stop()                                      # stop tracking\n",
    "\n",
    "# Compute total allocated size for each snapshot (sum all traces)\n",
    "total_normal = sum(stat.size for stat in snap_normal.statistics('filename'))\n",
    "total_slots  = sum(stat.size for stat in snap_slots.statistics('filename'))\n",
    "\n",
    "print(f\"Total allocated (normal): {total_normal/1024/1024:.2f} MiB\")\n",
    "print(f\"Total allocated (slots) : {total_slots/1024/1024:.2f} MiB\")\n",
    "print(f\"Memory reduction (~): {(1 - (total_slots/total_normal)) * 100:.1f}%\")"
   ]
  },
  {
   "cell_type": "markdown",
   "id": "64bd9f7377f912ef",
   "metadata": {},
   "source": [
    "## 🚧 Snippet 2 — Attribute Restrictions with `__slots__`\n",
    "\n",
    "*Slots remove the per-instance `__dict__`, so you **cannot** add arbitrary attributes.*\n",
    "This is a feature (saves memory, catches typos), but be aware of the limitation."
   ]
  },
  {
   "cell_type": "code",
   "execution_count": 3,
   "id": "8a8b4c13fe29c0e7",
   "metadata": {},
   "outputs": [
    {
     "name": "stdout",
     "output_type": "stream",
     "text": [
      "Expected AttributeError: 'UserSlots' object has no attribute 'email' and no __dict__ for setting new attributes\n"
     ]
    }
   ],
   "source": [
    "u = UserSlots(1, \"alice\", True)     # create a slots-based instance\n",
    "\n",
    "try:\n",
    "    u.email = \"alice@example.com\"   # ❌ adding new attribute not in __slots__ will fail\n",
    "except AttributeError as e:\n",
    "    print(\"Expected AttributeError:\", e)\n",
    "\n",
    "# If you need weak references, include \"__weakref__\" in __slots__\n",
    "class UserSlotsWeak:\n",
    "    __slots__ = (\"uid\", \"name\", \"active\", \"__weakref__\")  # allows weakref support if needed\n",
    "    def __init__(self, uid, name, active):\n",
    "        self.uid = uid\n",
    "        self.name = name\n",
    "        self.active = active"
   ]
  },
  {
   "cell_type": "markdown",
   "id": "f9d11bc43e9796dc",
   "metadata": {},
   "source": [
    "## ⏱️ Snippet 3 — Attribute Access Speed (Micro-benchmark)\n",
    "\n",
    "*Access can be marginally faster with slots because lookups don’t go through `__dict__`.*\n",
    "We benchmark simple attribute reads to illustrate."
   ]
  },
  {
   "cell_type": "code",
   "execution_count": 4,
   "id": "5db30c5b9a9a807d",
   "metadata": {},
   "outputs": [
    {
     "name": "stdout",
     "output_type": "stream",
     "text": [
      "Attribute read (normal): 0.086s\n",
      "Attribute read (slots) : 0.058s\n",
      "Speedup (≈): 1.47x\n"
     ]
    }
   ],
   "source": [
    "# Prepare one instance of each for fair comparison\n",
    "u_norm = UserNormal(1, \"alice\", True)\n",
    "u_slots = UserSlots(1, \"alice\", True)\n",
    "\n",
    "def read_norm():\n",
    "    # read a couple of attributes; return something so it's not optimized away\n",
    "    return u_norm.uid + (1 if u_norm.active else 0)\n",
    "\n",
    "def read_slots():\n",
    "    # same workload for the slots-based instance\n",
    "    return u_slots.uid + (1 if u_slots.active else 0)\n",
    "\n",
    "# timeit returns total seconds for the given number of loops; lower is better\n",
    "t_norm  = timeit.timeit(read_norm, number=2_000_000)   # run many iterations\n",
    "t_slots = timeit.timeit(read_slots, number=2_000_000)\n",
    "\n",
    "print(f\"Attribute read (normal): {t_norm:.3f}s\")\n",
    "print(f\"Attribute read (slots) : {t_slots:.3f}s\")\n",
    "speedup = (t_norm / t_slots) if t_slots else float('inf')\n",
    "print(f\"Speedup (≈): {speedup:.2f}x\")"
   ]
  },
  {
   "cell_type": "markdown",
   "id": "51023789434e4396",
   "metadata": {},
   "source": [
    "## ✅ One-liner Takeaway\n",
    "\n",
    "**Use `__slots__` to shrink per-object memory (and often speed up attribute access) in object-heavy code — with the trade-off that you can’t add new attributes dynamically.**"
   ]
  },
  {
   "cell_type": "markdown",
   "id": "ab2b5d51bdaeb3dc",
   "metadata": {},
   "source": [
    "### 📝Notes\n",
    "- Include `\"__weakref__\"` in `__slots__` if you need weak references.\n",
    "- With inheritance, all classes in the MRO should define compatible `__slots__`.\n",
    "- `dataclasses.dataclass(slots=True)` (Python 3.10+) generates slots for you."
   ]
  },
  {
   "cell_type": "markdown",
   "id": "4fb2b331fb5102ac",
   "metadata": {},
   "source": []
  }
 ],
 "metadata": {
  "kernelspec": {
   "display_name": "Python 3 (ipykernel)",
   "language": "python",
   "name": "python3"
  },
  "language_info": {
   "codemirror_mode": {
    "name": "ipython",
    "version": 3
   },
   "file_extension": ".py",
   "mimetype": "text/x-python",
   "name": "python",
   "nbconvert_exporter": "python",
   "pygments_lexer": "ipython3",
   "version": "3.13.5"
  }
 },
 "nbformat": 4,
 "nbformat_minor": 5
}
