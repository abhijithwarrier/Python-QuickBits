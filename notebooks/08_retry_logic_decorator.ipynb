{
 "cells": [
  {
   "cell_type": "markdown",
   "id": "5fe52d092a1d5ea0",
   "metadata": {
    "collapsed": true,
    "jupyter": {
     "outputs_hidden": true
    }
   },
   "source": [
    "**Programmer:** python_scripts (Abhijith Warrier)\n",
    "\n",
    "**PYTHON SCRIPT TO **_BUILD A SIMPLE RETRY DECORATOR_**. 🐍🔄**\n",
    "\n",
    "Sometimes API calls or I/O operations fail temporarily. Instead of crashing, you can **retry automatically** a few times before giving up.\n",
    "This decorator adds resilience without any external libraries."
   ]
  },
  {
   "cell_type": "markdown",
   "id": "16a0a08c3f5edcb2",
   "metadata": {},
   "source": [
    "## 📦 Import Standard Library"
   ]
  },
  {
   "cell_type": "code",
   "execution_count": 1,
   "id": "33970cf71e50e506",
   "metadata": {},
   "outputs": [],
   "source": [
    "import functools   # to preserve metadata when writing decorators\n",
    "import time        # to add delays between retries\n",
    "import random      # to simulate flaky behavior"
   ]
  },
  {
   "cell_type": "markdown",
   "id": "56b45cce6e8990b4",
   "metadata": {},
   "source": [
    "## 📝 Snippet 1 — A Simple Retry Decorator\n",
    "\n",
    "*Wrap any function with `@retry` to retry it on failure.*"
   ]
  },
  {
   "cell_type": "code",
   "execution_count": 2,
   "id": "445605ed83894ded",
   "metadata": {},
   "outputs": [],
   "source": [
    "def retry(max_attempts=3, delay=1):\n",
    "    \"\"\"\n",
    "    Decorator that retries a function if it raises an Exception.\n",
    "    Args:\n",
    "        max_attempts: number of total attempts (default 3)\n",
    "        delay: delay in seconds between retries\n",
    "    \"\"\"\n",
    "    def decorator(func):\n",
    "        @functools.wraps(func)  # preserve function metadata\n",
    "        def wrapper(*args, **kwargs):\n",
    "            for attempt in range(1, max_attempts + 1):\n",
    "                try:\n",
    "                    return func(*args, **kwargs)   # call the original function\n",
    "                except Exception as e:\n",
    "                    print(f\"[Attempt {attempt}] Failed with {e}\")\n",
    "                    if attempt < max_attempts:     # if not last attempt\n",
    "                        time.sleep(delay)          # wait before retrying\n",
    "                    else:\n",
    "                        raise                      # re-raise last exception\n",
    "        return wrapper\n",
    "    return decorator"
   ]
  },
  {
   "cell_type": "markdown",
   "id": "72edc54d296493b",
   "metadata": {},
   "source": [
    "## 🔄 Snippet 2 — Using the Retry Decorator\n",
    "\n",
    "*Simulate an unreliable function that randomly fails, and wrap it with `@retry`.*"
   ]
  },
  {
   "cell_type": "code",
   "execution_count": 3,
   "id": "c19312fdd230f81f",
   "metadata": {},
   "outputs": [
    {
     "name": "stdout",
     "output_type": "stream",
     "text": [
      "Running flaky_task with retry logic...\n",
      "[Attempt 1] Failed with Random failure\n",
      "[Attempt 2] Failed with Random failure\n",
      "[Attempt 3] Failed with Random failure\n",
      "[Attempt 4] Failed with Random failure\n",
      "Result: Success!\n"
     ]
    }
   ],
   "source": [
    "@retry(max_attempts=5, delay=0.5)\n",
    "def flaky_task():\n",
    "    \"\"\"Simulate a flaky task that succeeds randomly.\"\"\"\n",
    "    if random.random() < 0.7:   # 70% chance to fail\n",
    "        raise ValueError(\"Random failure\")\n",
    "    return \"Success!\"\n",
    "\n",
    "print(\"Running flaky_task with retry logic...\")\n",
    "print(\"Result:\", flaky_task())"
   ]
  },
  {
   "cell_type": "markdown",
   "id": "722f4949a5b9ec5b",
   "metadata": {},
   "source": [
    "## ✅ One-liner Takeaway\n",
    "\n",
    "**Use a retry decorator to make functions resilient to temporary failures — perfect for API calls and I/O.**"
   ]
  },
  {
   "cell_type": "markdown",
   "id": "2032072dff062e12",
   "metadata": {},
   "source": []
  }
 ],
 "metadata": {
  "kernelspec": {
   "display_name": "Python 3 (ipykernel)",
   "language": "python",
   "name": "python3"
  },
  "language_info": {
   "codemirror_mode": {
    "name": "ipython",
    "version": 3
   },
   "file_extension": ".py",
   "mimetype": "text/x-python",
   "name": "python",
   "nbconvert_exporter": "python",
   "pygments_lexer": "ipython3",
   "version": "3.13.5"
  }
 },
 "nbformat": 4,
 "nbformat_minor": 5
}
