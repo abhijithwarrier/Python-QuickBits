{
 "cells": [
  {
   "cell_type": "markdown",
   "id": "a7d4489b4d23ce57",
   "metadata": {
    "collapsed": true,
    "jupyter": {
     "outputs_hidden": true
    }
   },
   "source": [
    "**Programmer:** python_scripts (Abhijith Warrier)\n",
    "\n",
    "**PYTHON SCRIPT TO **_READ TOML CONFIGS USING THE BUILT-IN `tomllib`_**. 🐍📑️**\n",
    "\n",
    "Python 3.11 introduced **`tomllib`** — a standard-library parser for TOML.\n",
    "You can now parse config files **without third-party libraries**.\n",
    "\n",
    "This notebook shows:\n",
    "- Parsing a TOML **string** with `tomllib.loads`\n",
    "- Parsing a TOML **file** with `tomllib.load`\n",
    "- Accessing nested fields safely\n",
    "\n",
    "> Note: `tomllib` is **read-only**. For writing TOML, use `tomli-w` or `tomlkit` (3rd-party)."
   ]
  },
  {
   "cell_type": "markdown",
   "id": "6f42650940266320",
   "metadata": {},
   "source": [
    "## 📦 Import Standard Library"
   ]
  },
  {
   "cell_type": "code",
   "execution_count": 1,
   "id": "220f4f33c31af0f6",
   "metadata": {},
   "outputs": [],
   "source": [
    "import sys             # to check Python version\n",
    "import tomllib         # built-in TOML parser (Python 3.11+)\n",
    "from pprint import pprint  # pretty-print nested dicts"
   ]
  },
  {
   "cell_type": "markdown",
   "id": "5af346811594e077",
   "metadata": {},
   "source": [
    "## 📝 Snippet 1 — Parse a TOML **String** with `tomllib.loads`\n",
    "\n",
    "*Quickly parse inline TOML content — handy for tests, demos, or small configs.*"
   ]
  },
  {
   "cell_type": "code",
   "execution_count": 2,
   "id": "e09effe46bf259f8",
   "metadata": {},
   "outputs": [
    {
     "name": "stdout",
     "output_type": "stream",
     "text": [
      "Parsed config (from string):\n",
      "{'app': {'debug': True, 'name': 'quickbits', 'version': '1.0.0'},\n",
      " 'database': {'enabled': True, 'host': 'localhost', 'port': 5432},\n",
      " 'features': {'enabled': ['lru_cache', 'default_factory', 'contextlib']},\n",
      " 'logging': {'handlers': ['console', 'file'], 'level': 'INFO'},\n",
      " 'paths': {'data_dir': '/var/data', 'log_dir': '/var/log/quickbits'},\n",
      " 'title': 'Python QuickBits'}\n",
      "\n",
      "App name: quickbits\n",
      "DB host: localhost\n",
      "First feature: lru_cache\n"
     ]
    }
   ],
   "source": [
    "# Example TOML string with nested tables and arrays\n",
    "toml_text = \"\"\"\n",
    "title = \"Python QuickBits\"\n",
    "\n",
    "[app]\n",
    "name = \"quickbits\"\n",
    "debug = true\n",
    "version = \"1.0.0\"\n",
    "\n",
    "[database]\n",
    "host = \"localhost\"\n",
    "port = 5432\n",
    "enabled = true\n",
    "\n",
    "[features]\n",
    "enabled = [\"lru_cache\", \"default_factory\", \"contextlib\"]\n",
    "\n",
    "[logging]\n",
    "level = \"INFO\"\n",
    "handlers = [\"console\", \"file\"]\n",
    "\n",
    "[paths]\n",
    "data_dir = \"/var/data\"\n",
    "log_dir  = \"/var/log/quickbits\"\n",
    "\"\"\"\n",
    "\n",
    "# Parse the TOML string into a Python dict\n",
    "config = tomllib.loads(toml_text)        # returns a nested dict-like structure\n",
    "\n",
    "print(\"Parsed config (from string):\")\n",
    "pprint(config)                           # pretty-print for readability\n",
    "\n",
    "# Access a few fields to demonstrate usage\n",
    "print(\"\\nApp name:\", config[\"app\"][\"name\"])               # 'quickbits'\n",
    "print(\"DB host:\", config[\"database\"][\"host\"])             # 'localhost'\n",
    "print(\"First feature:\", config[\"features\"][\"enabled\"][0]) # 'lru_cache'"
   ]
  },
  {
   "cell_type": "markdown",
   "id": "ed3efd2e38d3e571",
   "metadata": {},
   "source": [
    "## 📁 Snippet 2 — Parse a TOML **File** with `tomllib.load`\n",
    "\n",
    "*Open the file in **binary mode** (`'rb'`) and pass the file object to `tomllib.load`.*"
   ]
  },
  {
   "cell_type": "code",
   "execution_count": 3,
   "id": "db0aa461db0dc8eb",
   "metadata": {},
   "outputs": [
    {
     "name": "stdout",
     "output_type": "stream",
     "text": [
      "Parsed config (from file):\n",
      "{'service': {'name': 'api',\n",
      "             'retries': 3,\n",
      "             'timeouts': {'connect': 2.5, 'read': 5.0}}}\n",
      "\n",
      "Service name: api\n",
      "Connect timeout: 2.5\n"
     ]
    }
   ],
   "source": [
    "# Create a sample TOML file (for demo purposes only)\n",
    "sample_toml = \"\"\"\n",
    "[service]\n",
    "name = \"api\"\n",
    "retries = 3\n",
    "\n",
    "[service.timeouts]\n",
    "connect = 2.5\n",
    "read = 5.0\n",
    "\"\"\"\n",
    "\n",
    "with open(\"config.toml\", \"w\", encoding=\"utf-8\") as f:  # write as text\n",
    "    f.write(sample_toml)\n",
    "\n",
    "# Read the TOML file with tomllib.load (requires binary mode)\n",
    "with open(\"config.toml\", \"rb\") as f:    # note: 'rb' is required by tomllib.load\n",
    "    file_config = tomllib.load(f)\n",
    "\n",
    "print(\"Parsed config (from file):\")\n",
    "pprint(file_config)\n",
    "\n",
    "# Access nested values\n",
    "print(\"\\nService name:\", file_config[\"service\"][\"name\"])              # 'api'\n",
    "print(\"Connect timeout:\", file_config[\"service\"][\"timeouts\"][\"connect\"])  # 2.5"
   ]
  },
  {
   "cell_type": "markdown",
   "id": "af91aa1b556b54a5",
   "metadata": {},
   "source": [
    "## 🧭 Snippet 3 — Version Note & Safe Access\n",
    "\n",
    "*`tomllib` is available in Python **3.11+**. For older versions, use `tomli` (3rd-party) to read TOML.*\n",
    "*Also, use `.get()` to avoid `KeyError` when keys may be optional.*"
   ]
  },
  {
   "cell_type": "code",
   "execution_count": 4,
   "id": "67bb4db11901fc2a",
   "metadata": {},
   "outputs": [
    {
     "name": "stdout",
     "output_type": "stream",
     "text": [
      "Python: 3.13.5\n",
      "Safe read timeout: 5.0\n"
     ]
    }
   ],
   "source": [
    "# Show Python version and provide a friendly note\n",
    "print(f\"Python: {sys.version.split()[0]}\")\n",
    "if sys.version_info < (3, 11):\n",
    "    print(\"Note: `tomllib` requires Python 3.11+. On older versions, install `tomli` (read-only).\")\n",
    "\n",
    "# Example of safe access with .get()\n",
    "svc = file_config.get(\"service\", {})\n",
    "timeouts = svc.get(\"timeouts\", {})\n",
    "print(\"Safe read timeout:\", timeouts.get(\"read\", 10.0))   # default fallback 10.0 if missing"
   ]
  },
  {
   "cell_type": "markdown",
   "id": "143867821cea4c6f",
   "metadata": {},
   "source": [
    "## ✅ One-liner Takeaway\n",
    "\n",
    "**Use `tomllib` (Python 3.11+) to parse TOML configs from strings or files — modern, fast, and no third-party dependency.**"
   ]
  },
  {
   "cell_type": "markdown",
   "id": "b33ee4f934aa02cb",
   "metadata": {},
   "source": []
  }
 ],
 "metadata": {
  "kernelspec": {
   "display_name": "Python 3 (ipykernel)",
   "language": "python",
   "name": "python3"
  },
  "language_info": {
   "codemirror_mode": {
    "name": "ipython",
    "version": 3
   },
   "file_extension": ".py",
   "mimetype": "text/x-python",
   "name": "python",
   "nbconvert_exporter": "python",
   "pygments_lexer": "ipython3",
   "version": "3.13.5"
  }
 },
 "nbformat": 4,
 "nbformat_minor": 5
}
