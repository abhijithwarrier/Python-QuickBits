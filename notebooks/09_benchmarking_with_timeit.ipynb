{
 "cells": [
  {
   "cell_type": "markdown",
   "id": "2c8f32f306283206",
   "metadata": {},
   "source": [
    "**Programmer:** python_scripts (Abhijith Warrier)\n",
    "\n",
    "**PYTHON SCRIPT TO **_MEASURE CODE PERFORMANCE IN ONE LINE USING `timeit`_**. 🐍⏱️**\n",
    "\n",
    "The `timeit` module provides an easy, accurate way to measure how long small code snippets take to run.\n",
    "Let’s compare two common string concatenation methods — the **“+” operator** and **`join()`** — to see which one performs better."
   ]
  },
  {
   "cell_type": "markdown",
   "id": "377bbaab8f94df75",
   "metadata": {},
   "source": [
    "## 📦 Import Standard Library"
   ]
  },
  {
   "cell_type": "code",
   "execution_count": 1,
   "id": "c6c0fd0acd9dfbef",
   "metadata": {},
   "outputs": [],
   "source": [
    "import timeit     # module for precise code benchmarking"
   ]
  },
  {
   "cell_type": "markdown",
   "id": "a110d7db0ea34e3",
   "metadata": {},
   "source": [
    "## 📝 Snippet 1 — Compare String Concatenation Methods\n",
    "\n",
    "*We’ll benchmark two approaches: using `\"+\"` inside a loop vs `str.join()` with a list.*"
   ]
  },
  {
   "cell_type": "code",
   "execution_count": 2,
   "id": "2736649d9a53bd61",
   "metadata": {},
   "outputs": [
    {
     "name": "stdout",
     "output_type": "stream",
     "text": [
      "String '+' concatenation: 0.1122s\n",
      "String join(): 0.0137s\n",
      "join() is roughly 8.2x faster\n"
     ]
    }
   ],
   "source": [
    "# Define two setup snippets as strings\n",
    "setup_code = \"words = ['python', 'is', 'fast'] * 1000\"  # simulate repeated text\n",
    "\n",
    "# Method 1: string concatenation with '+'\n",
    "concat_test = \"\"\"\n",
    "result = ''\n",
    "for w in words:\n",
    "    result += w\n",
    "\"\"\"\n",
    "\n",
    "# Method 2: efficient join\n",
    "join_test = \"\"\"\n",
    "result = ''.join(words)\n",
    "\"\"\"\n",
    "\n",
    "# Run benchmarks — timeit.timeit() runs the code many times and returns total seconds\n",
    "t_concat = timeit.timeit(concat_test, setup=setup_code, number=1000)\n",
    "t_join = timeit.timeit(join_test, setup=setup_code, number=1000)\n",
    "\n",
    "print(f\"String '+' concatenation: {t_concat:.4f}s\")\n",
    "print(f\"String join(): {t_join:.4f}s\")\n",
    "print(f\"join() is roughly {t_concat / t_join:.1f}x faster\")"
   ]
  },
  {
   "cell_type": "markdown",
   "id": "af9ebfc24ee29100",
   "metadata": {},
   "source": [
    "## ⚙️ Snippet 2 — Using timeit in One Line\n",
    "\n",
    "*You can benchmark any short code directly from the command line or shell:*"
   ]
  },
  {
   "cell_type": "code",
   "execution_count": null,
   "id": "cbfe44a0a0499dc",
   "metadata": {},
   "outputs": [],
   "source": [
    "# Run the code directly from the command line\n",
    "python -m timeit \"'-'.join(['a'] * 1000)\""
   ]
  },
  {
   "cell_type": "markdown",
   "id": "1c1a21d169908a21",
   "metadata": {
    "ExecuteTime": {
     "end_time": "2025-10-11T14:51:18.073045Z",
     "start_time": "2025-10-11T14:51:18.070029Z"
    }
   },
   "source": [
    "*This runs the snippet many times and shows the average execution time.*"
   ]
  },
  {
   "cell_type": "markdown",
   "id": "e399ed374bf83fd8",
   "metadata": {},
   "source": [
    "## ✅ One-liner Takeaway\n",
    "\n",
    "**Use `timeit` to benchmark and compare Python snippets accurately — great for finding faster patterns in your code.**"
   ]
  },
  {
   "cell_type": "code",
   "execution_count": null,
   "id": "91a49996bcf01331",
   "metadata": {},
   "outputs": [],
   "source": []
  }
 ],
 "metadata": {
  "kernelspec": {
   "display_name": "Python 3 (ipykernel)",
   "language": "python",
   "name": "python3"
  },
  "language_info": {
   "codemirror_mode": {
    "name": "ipython",
    "version": 3
   },
   "file_extension": ".py",
   "mimetype": "text/x-python",
   "name": "python",
   "nbconvert_exporter": "python",
   "pygments_lexer": "ipython3",
   "version": "3.13.5"
  }
 },
 "nbformat": 4,
 "nbformat_minor": 5
}
