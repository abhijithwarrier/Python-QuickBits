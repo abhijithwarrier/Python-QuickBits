{
 "cells": [
  {
   "cell_type": "markdown",
   "id": "efe7582b92cbe16c",
   "metadata": {
    "collapsed": true,
    "jupyter": {
     "outputs_hidden": true
    }
   },
   "source": [
    "**Programmer:** python_scripts (Abhijith Warrier)\n",
    "\n",
    "**PYTHON SCRIPT TO **_TO SPEED UP EXPENSIVE FUNCTIONS USING functools.lru_cache_** 🐍🚀**\n",
    "\n",
    "This script shows how to add memoization to a slow, recursive function with a single decorator. We’ll compare runtimes for naive Fibonacci vs a cached version, and peek into cache stats."
   ]
  },
  {
   "cell_type": "markdown",
   "id": "18ed2ad7bafaef41",
   "metadata": {},
   "source": [
    "## 📦 Import Standard Library"
   ]
  },
  {
   "cell_type": "code",
   "execution_count": 1,
   "id": "3914551e41b51e43",
   "metadata": {
    "ExecuteTime": {
     "end_time": "2025-08-17T08:43:51.429216Z",
     "start_time": "2025-08-17T08:43:51.421721Z"
    }
   },
   "outputs": [],
   "source": [
    "# Built-in tools: no external installs required\n",
    "from functools import lru_cache   # decorator that adds memoization\n",
    "from time import perf_counter     # high-resolution timer for simple benchmarking"
   ]
  },
  {
   "cell_type": "markdown",
   "id": "17ef145f56dc8dde",
   "metadata": {},
   "source": [
    "## 📝 Snippet 1 — Naive Recursive Fibonacci (Slow)\n",
    "\n",
    "A classic recursive implementation that recalculates the same values many times, leading to poor performance."
   ]
  },
  {
   "cell_type": "code",
   "execution_count": 4,
   "id": "b087f237d3ed35fc",
   "metadata": {
    "ExecuteTime": {
     "end_time": "2025-08-17T08:47:51.875041Z",
     "start_time": "2025-08-17T08:47:50.935864Z"
    }
   },
   "outputs": [
    {
     "name": "stdout",
     "output_type": "stream",
     "text": [
      "Naive fib(35) = 9227465\n",
      "Naive elapsed: 0.936s\n"
     ]
    }
   ],
   "source": [
    "def fib(n: int) -> int:\n",
    "    \"\"\"\n",
    "    Classic recursive Fibonacci (intentionally slow).\n",
    "    Recomputes the same subproblems many times.\n",
    "    \"\"\"\n",
    "    if n < 2:\n",
    "        return n\n",
    "    return fib(n - 1) + fib(n - 2)\n",
    "\n",
    "# Quick timing: naive version\n",
    "start = perf_counter()\n",
    "print(\"Naive fib(35) =\", fib(35))\n",
    "print(\"Naive elapsed: {:.3f}s\".format(perf_counter() - start))"
   ]
  },
  {
   "cell_type": "markdown",
   "id": "dbef32893615891b",
   "metadata": {},
   "source": [
    "## ⚡️ Snippet 2 — Cached Fibonacci with @lru_cache (Fast)\n",
    "\n",
    "Adding `@lru_cache` avoids redundant calculations by caching results. First call fills the cache, subsequent calls are instant."
   ]
  },
  {
   "cell_type": "code",
   "execution_count": 5,
   "id": "40bcd9c69f9e1bea",
   "metadata": {
    "ExecuteTime": {
     "end_time": "2025-08-17T08:47:59.287329Z",
     "start_time": "2025-08-17T08:47:59.282934Z"
    }
   },
   "outputs": [
    {
     "name": "stdout",
     "output_type": "stream",
     "text": [
      "Cached fib_cached(35) = 9227465\n",
      "Cached (1st call) elapsed: 0.000s\n",
      "Cached fib_cached(35) again = 9227465\n",
      "Cached (2nd call) elapsed: 0.000053s\n",
      "Cache info: CacheInfo(hits=34, misses=36, maxsize=None, currsize=36)\n"
     ]
    }
   ],
   "source": [
    "@lru_cache(maxsize=None)  # None => unbounded cache; memoize all distinct n\n",
    "def fib_cached(n: int) -> int:\n",
    "    \"\"\"\n",
    "    Same logic, now cached.\n",
    "    Subsequent calls with the same n are O(1) after first computation.\n",
    "    \"\"\"\n",
    "    if n < 2:\n",
    "        return n\n",
    "    return fib_cached(n - 1) + fib_cached(n - 2)\n",
    "\n",
    "# First timed call: computes & fills the cache\n",
    "start = perf_counter()\n",
    "print(\"Cached fib_cached(35) =\", fib_cached(35))\n",
    "print(\"Cached (1st call) elapsed: {:.3f}s\".format(perf_counter() - start))\n",
    "\n",
    "# Second timed call: returns instantly from cache\n",
    "start = perf_counter()\n",
    "print(\"Cached fib_cached(35) again =\", fib_cached(35))\n",
    "print(\"Cached (2nd call) elapsed: {:.6f}s\".format(perf_counter() - start))\n",
    "\n",
    "# Inspect cache stats: hits/misses/currsize\n",
    "print(\"Cache info:\", fib_cached.cache_info())"
   ]
  },
  {
   "cell_type": "markdown",
   "id": "1d6748b3f961aef5",
   "metadata": {},
   "source": [
    "## 🧹 Snippet 3 — Managing the Cache (Clear & Notes)\n",
    "\n",
    "You can clear or limit the cache when working with changing data or many inputs."
   ]
  },
  {
   "cell_type": "code",
   "execution_count": 3,
   "id": "37fb5dc9ae2ed762",
   "metadata": {
    "ExecuteTime": {
     "end_time": "2025-08-17T08:45:37.103251Z",
     "start_time": "2025-08-17T08:45:37.100220Z"
    }
   },
   "outputs": [
    {
     "name": "stdout",
     "output_type": "stream",
     "text": [
      "After clear, recompute elapsed: 0.000s\n"
     ]
    }
   ],
   "source": [
    "# If your underlying data/logic changes, clear the cache:\n",
    "fib_cached.cache_clear()\n",
    "\n",
    "# After clearing, the next call recomputes and repopulates the cache.\n",
    "start = perf_counter()\n",
    "_ = fib_cached(35)\n",
    "print(\"After clear, recompute elapsed: {:.3f}s\".format(perf_counter() - start))\n",
    "\n",
    "# ✅ Requirements / Pitfalls:\n",
    "# - Function must be \"pure\" (same input -> same output) for correctness.\n",
    "# - All arguments must be hashable (usable as dict keys). E.g., tuples ok; lists not ok.\n",
    "# - Use maxsize to bound memory (e.g., @lru_cache(maxsize=1024)) if inputs vary widely."
   ]
  },
  {
   "cell_type": "markdown",
   "id": "8478bab1eb03f688",
   "metadata": {},
   "source": [
    "## ✅ One-liner Takeaway\n",
    "\n",
    "Drop `@lru_cache` on pure, expensive functions for instant speedups—no refactor needed."
   ]
  },
  {
   "cell_type": "code",
   "execution_count": null,
   "id": "1e7d9f8e35c47bf",
   "metadata": {},
   "outputs": [],
   "source": []
  }
 ],
 "metadata": {
  "kernelspec": {
   "display_name": "Python 3 (ipykernel)",
   "language": "python",
   "name": "python3"
  },
  "language_info": {
   "codemirror_mode": {
    "name": "ipython",
    "version": 3
   },
   "file_extension": ".py",
   "mimetype": "text/x-python",
   "name": "python",
   "nbconvert_exporter": "python",
   "pygments_lexer": "ipython3",
   "version": "3.13.5"
  }
 },
 "nbformat": 4,
 "nbformat_minor": 5
}
